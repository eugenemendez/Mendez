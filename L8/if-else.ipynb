{
 "cells": [
  {
   "cell_type": "markdown",
   "metadata": {},
   "source": [
    "# Relational Operators <hr style=\"border:2.5px solid #126782\"></hr>\n"
   ]
  },
  {
   "cell_type": "markdown",
   "metadata": {},
   "source": [
    "Data Analyst : Eugene John Mendez <br>\n",
    "Department : Electrical Engineering "
   ]
  },
  {
   "cell_type": "markdown",
   "metadata": {},
   "source": [
    "# if statement"
   ]
  },
  {
   "cell_type": "code",
   "execution_count": 9,
   "metadata": {},
   "outputs": [
    {
     "name": "stdout",
     "output_type": "stream",
     "text": [
      "pasar ko!\n"
     ]
    }
   ],
   "source": [
    "# passing score is 5.0 \n",
    "grade = 5.1 \n",
    "if grade >= 5.0:\n",
    "    print(\"pasar ko!\")"
   ]
  },
  {
   "cell_type": "code",
   "execution_count": 7,
   "metadata": {},
   "outputs": [
    {
     "name": "stdout",
     "output_type": "stream",
     "text": [
      "pasar ko!\n"
     ]
    }
   ],
   "source": [
    "# two if statements are evaluated \n",
    "grade = 7.5 \n",
    "\n",
    "# evaluate grade \n",
    "if grade >= 5.0:\n",
    "    print(\"pasar ko!\")\n",
    "if grade < 5.0:\n",
    "    print(\"FAILED!\")"
   ]
  },
  {
   "cell_type": "markdown",
   "metadata": {},
   "source": [
    "# if-else statement "
   ]
  },
  {
   "cell_type": "code",
   "execution_count": 16,
   "metadata": {},
   "outputs": [
    {
     "name": "stdout",
     "output_type": "stream",
     "text": [
      "FAILED!\n"
     ]
    }
   ],
   "source": [
    "# if grade >= 5.0 is True,'else' will not be evaluated \n",
    "grade = 4.0 \n",
    "\n",
    "# evaluate grade \n",
    "if grade >= 5.0:\n",
    "    print(\"pasar ko!\")\n",
    "else:\n",
    "    print(\"FAILED!\")\n",
    "    "
   ]
  },
  {
   "cell_type": "markdown",
   "metadata": {},
   "source": [
    "# if-elif-else statement "
   ]
  },
  {
   "cell_type": "code",
   "execution_count": 21,
   "metadata": {},
   "outputs": [
    {
     "name": "stdout",
     "output_type": "stream",
     "text": [
      "FAILED!\n"
     ]
    }
   ],
   "source": [
    "# if grade >= 5.0 is True,'others' will not be evaluated \n",
    "grade = 2.9\n",
    "\n",
    "# evaluate grade \n",
    "if grade >= 5.0:\n",
    "    print(\"pasar ko!\")\n",
    "elif grade < 5.0:\n",
    "    print(\"FAILED!\")\n",
    "elif grade < 3.0:\n",
    "    print(\"DISMISSED!\")\n",
    "else: \n",
    "    (\"INVALID\")\n"
   ]
  },
  {
   "cell_type": "code",
   "execution_count": 19,
   "metadata": {},
   "outputs": [
    {
     "name": "stdout",
     "output_type": "stream",
     "text": [
      "DISMISSED!\n"
     ]
    }
   ],
   "source": [
    "# if grade >= 5.0 is True,'others' will not be evaluated \n",
    "grade = 2.9\n",
    "\n",
    "# evaluate grade \n",
    "if grade >= 5.0:\n",
    "    print(\"pasar ko!\")\n",
    "elif grade < 3.0:\n",
    "    print(\"DISMISSED!\")\n",
    "elif grade < 5.0:\n",
    "    print(\"FAILED!\")\n",
    "else: \n",
    "    (\"INVALID\")"
   ]
  }
 ],
 "metadata": {
  "kernelspec": {
   "display_name": "Python 3",
   "language": "python",
   "name": "python3"
  },
  "language_info": {
   "codemirror_mode": {
    "name": "ipython",
    "version": 3
   },
   "file_extension": ".py",
   "mimetype": "text/x-python",
   "name": "python",
   "nbconvert_exporter": "python",
   "pygments_lexer": "ipython3",
   "version": "3.9.0"
  }
 },
 "nbformat": 4,
 "nbformat_minor": 2
}
