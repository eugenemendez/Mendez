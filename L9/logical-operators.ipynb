{
 "cells": [
  {
   "cell_type": "markdown",
   "metadata": {},
   "source": [
    "# Logical Operators <hr style=\"border:2.5px solid #126782\"></hr>\n"
   ]
  },
  {
   "cell_type": "markdown",
   "metadata": {},
   "source": [
    "Data Analyst : Eugene John Mendez <br>\n",
    "Department : Electrical Engineering "
   ]
  },
  {
   "cell_type": "markdown",
   "metadata": {},
   "source": [
    "# Logical AND "
   ]
  },
  {
   "cell_type": "code",
   "execution_count": 12,
   "metadata": {},
   "outputs": [
    {
     "name": "stdout",
     "output_type": "stream",
     "text": [
      "both are false\n"
     ]
    }
   ],
   "source": [
    "# a AND b must be true \n",
    "a = False \n",
    "b = False  \n",
    "\n",
    "if a and b: \n",
    "    print(\"both are true\")\n",
    "elif not (a) and not (b):\n",
    "    print(\"both are false\")\n",
    "else: \n",
    "    print(\"at least one is false\")"
   ]
  },
  {
   "cell_type": "code",
   "execution_count": 26,
   "metadata": {},
   "outputs": [
    {
     "name": "stdout",
     "output_type": "stream",
     "text": [
      "13 is within the range of 11-20. \n"
     ]
    }
   ],
   "source": [
    "# check if a is within range of 1 to 30\n",
    "a = 13\n",
    "\n",
    "if a > 0 and a <= 10:\n",
    "    print( str(a) + \" is within the range of 1-10. \")\n",
    "elif (a > 10) and (a <=20):\n",
    "    print( str(a) + \" is within the range of 11-20. \")\n",
    "elif (a > 20) and (a <=30):\n",
    "    print( str(a) + \" is within the range of 21-30. \")"
   ]
  },
  {
   "cell_type": "markdown",
   "metadata": {},
   "source": [
    "# Logical OR "
   ]
  },
  {
   "cell_type": "code",
   "execution_count": 30,
   "metadata": {},
   "outputs": [
    {
     "name": "stdout",
     "output_type": "stream",
     "text": [
      "both are false\n"
     ]
    }
   ],
   "source": [
    "# either a or b is true \n",
    "a = False \n",
    "b = False \n",
    "\n",
    "if a or b:\n",
    "    print(\"at least one is true\")\n",
    "else: \n",
    "    print(\"both are false\")"
   ]
  },
  {
   "cell_type": "code",
   "execution_count": 47,
   "metadata": {},
   "outputs": [
    {
     "name": "stdout",
     "output_type": "stream",
     "text": [
      "It's a great day to go outside outside!\n"
     ]
    }
   ],
   "source": [
    "# Go outside or stay indoors \n",
    "weather = \"sunny\"\n",
    "\n",
    "if(weather == 'rainy') or (weather == 'stormy'):\n",
    "   print(\"Bring an umbrella or stay indoors\")\n",
    "elif(weather == 'sunny') or (weather == 'clear'):\n",
    "   print (\"It's a great day to go outside outside!\")\n",
    "else: \n",
    "   print(\"The weather is unpresictable today\")"
   ]
  },
  {
   "cell_type": "markdown",
   "metadata": {},
   "source": [
    "# Logical NOT \n"
   ]
  },
  {
   "cell_type": "code",
   "execution_count": 38,
   "metadata": {},
   "outputs": [
    {
     "data": {
      "text/plain": [
       "True"
      ]
     },
     "execution_count": 38,
     "metadata": {},
     "output_type": "execute_result"
    }
   ],
   "source": [
    "# negates the logical state \n",
    "a = False \n",
    "not a "
   ]
  },
  {
   "cell_type": "code",
   "execution_count": 46,
   "metadata": {},
   "outputs": [
    {
     "name": "stdout",
     "output_type": "stream",
     "text": [
      "13 is even\n"
     ]
    }
   ],
   "source": [
    "# odd or even number \n",
    "a = 13\n",
    "if not (a%2 == 0):\n",
    "    print( str(a) + \" is even\")\n",
    "else: \n",
    "    print( str(a) + \" is odd\")"
   ]
  }
 ],
 "metadata": {
  "kernelspec": {
   "display_name": "Python 3",
   "language": "python",
   "name": "python3"
  },
  "language_info": {
   "codemirror_mode": {
    "name": "ipython",
    "version": 3
   },
   "file_extension": ".py",
   "mimetype": "text/x-python",
   "name": "python",
   "nbconvert_exporter": "python",
   "pygments_lexer": "ipython3",
   "version": "3.9.0"
  }
 },
 "nbformat": 4,
 "nbformat_minor": 2
}
